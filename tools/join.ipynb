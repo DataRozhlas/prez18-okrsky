{
 "cells": [
  {
   "cell_type": "code",
   "execution_count": 80,
   "metadata": {},
   "outputs": [],
   "source": [
    "import pandas as pd\n",
    "import json\n",
    "import numpy as np\n",
    "import jenks"
   ]
  },
  {
   "cell_type": "code",
   "execution_count": 81,
   "metadata": {},
   "outputs": [],
   "source": [
    "momc = pd.read_csv('../scratch/momc_meta.csv').set_index('KOD_MOaMC').to_dict(orient='index')\n",
    "ob = pd.read_csv('../scratch/obce_meta.csv').set_index('KOD_OBEC').to_dict(orient='index')"
   ]
  },
  {
   "cell_type": "code",
   "execution_count": 82,
   "metadata": {},
   "outputs": [],
   "source": [
    "with open('../scratch/okrsky.json', encoding='utf-8') as f:\n",
    "    jsn = json.load(f)"
   ]
  },
  {
   "cell_type": "code",
   "execution_count": 83,
   "metadata": {},
   "outputs": [],
   "source": [
    "meta = {}"
   ]
  },
  {
   "cell_type": "code",
   "execution_count": 84,
   "metadata": {},
   "outputs": [],
   "source": [
    "# zpracovani MC\n",
    "for mc in momc:\n",
    "    meta[mc] = {\n",
    "        'mc': momc[mc]['NAZ_MOaMC'], \n",
    "        'obec': momc[mc]['NAZ_OBEC'], \n",
    "        'okres': momc[mc]['NAZ_LAU1'], \n",
    "        'kraj': momc[mc]['NAZ_CZNUTS3']\n",
    "    }"
   ]
  },
  {
   "cell_type": "code",
   "execution_count": 85,
   "metadata": {},
   "outputs": [],
   "source": [
    "# zpracovani obci\n",
    "for o in ob:\n",
    "    meta[o] = {\n",
    "        'mc': None, \n",
    "        'obec': ob[o]['NAZ_OBEC'], \n",
    "        'okres': ob[o]['NAZ_LAU1'], \n",
    "        'kraj': ob[o]['NAZ_CZNUTS3']\n",
    "    }"
   ]
  },
  {
   "cell_type": "code",
   "execution_count": 86,
   "metadata": {},
   "outputs": [],
   "source": [
    "for fe in jsn['features']:\n",
    "    momc_kod = fe['properties']['MomcKod']\n",
    "    obec_kod = fe['properties']['ObecKod']\n",
    "    if momc_kod != None:\n",
    "        kd = momc_kod\n",
    "    else:\n",
    "        kd = obec_kod\n",
    "    \n",
    "    fe['properties'].update(meta[kd])"
   ]
  },
  {
   "cell_type": "code",
   "execution_count": 87,
   "metadata": {},
   "outputs": [],
   "source": [
    "okrs = pd.read_csv('../scratch/pet1.csv', sep=';')"
   ]
  },
  {
   "cell_type": "code",
   "execution_count": 88,
   "metadata": {},
   "outputs": [],
   "source": [
    "okrs['okid'] = okrs.OBEC.astype('str') + '_' + okrs.OKRSEK.astype('str')"
   ]
  },
  {
   "cell_type": "code",
   "execution_count": 89,
   "metadata": {},
   "outputs": [],
   "source": [
    "cls = [\n",
    "    'CHYBA',\n",
    "    'KC_1',\n",
    "    'KC_2',\n",
    "    'KC_3',\n",
    "    'KC_4',\n",
    "    'HLASY_10',\n",
    "    'HLASY_11',\n",
    "    'HLASY_12',\n",
    "    'HLASY_13',\n",
    "    'HLASY_14',\n",
    "    'HLASY_15',\n",
    "    'HLASY_16',\n",
    "    'HLASY_17',\n",
    "    'HLASY_18',\n",
    "    'HLASY_19',\n",
    "    'HLASY_20',\n",
    "    'KC_SUM',\n",
    "    'KOLO',\n",
    "    'OBEC',\n",
    "    'OKRES',\n",
    "    'OKRSEK',\n",
    "    'OPRAVA',\n",
    "    'POSL_KAND',\n",
    "    'TYP_FORM'\n",
    "]\n",
    "okrs.drop(cls, inplace=True, axis=1)"
   ]
  },
  {
   "cell_type": "code",
   "execution_count": 90,
   "metadata": {},
   "outputs": [],
   "source": [
    "okrs = okrs.set_index('okid').to_dict(orient='index')"
   ]
  },
  {
   "cell_type": "code",
   "execution_count": 91,
   "metadata": {},
   "outputs": [],
   "source": [
    "for fe in jsn['features']:\n",
    "    momc_kod = fe['properties']['MomcKod']\n",
    "    obec_kod = fe['properties']['ObecKod']\n",
    "    if momc_kod != None:\n",
    "        kd = str(momc_kod) + '_' + str(fe['properties']['Cislo'])\n",
    "    else:\n",
    "        kd = str(obec_kod) + '_' + str(fe['properties']['Cislo'])\n",
    "    \n",
    "    try:\n",
    "        fe['properties'].update(okrs[kd])\n",
    "    except:\n",
    "        jsn['features'].pop(jsn['features'].index(fe)) #možná časem udělat hezky, ne je jen vyhodit"
   ]
  },
  {
   "cell_type": "code",
   "execution_count": null,
   "metadata": {},
   "outputs": [],
   "source": [
    "with open('../scratch/map.json', 'w', encoding='utf-8') as f:\n",
    "    f.write(json.dumps(jsn))"
   ]
  },
  {
   "cell_type": "code",
   "execution_count": null,
   "metadata": {},
   "outputs": [],
   "source": [
    "#breaks\n",
    "k = 5\n",
    "nbAttempt = 4\n",
    "\n",
    "target = open('../js/breaks.js', 'w')\n",
    "target.truncate()\n",
    "target.write('var breaks = {\\n')\n",
    "\n",
    "for i in range(1, 10):\n",
    "    vals = []\n",
    "    for ftr in jsn['features']:\n",
    "        vals.append((ftr['properties']['HLASY_' + str(i).rjust(2, '0')] * 1.0) / ftr['properties']['PL_HL_CELK'])\n",
    "        \n",
    "    vals = np.trim_zeros(vals)\n",
    "    if np.mean(vals) == 0:\n",
    "        continue\n",
    "    else:\n",
    "        brks = [0, 0, 0, 0]\n",
    "        try:\n",
    "            casp = jenks.jenksCaspall(vals, k, nbAttempt, initStyle='kpp')\n",
    "            brks = casp.breaks\n",
    "        except:\n",
    "            pass\n",
    "        target.write('HLASY_' + str(i).rjust(2, '0') + ': ' + str(brks) + ',\\n')\n",
    "        \n",
    "target.write(\"};\")\n",
    "target.close()"
   ]
  }
 ],
 "metadata": {
  "kernelspec": {
   "display_name": "Python 3",
   "language": "python",
   "name": "python3"
  },
  "language_info": {
   "codemirror_mode": {
    "name": "ipython",
    "version": 3
   },
   "file_extension": ".py",
   "mimetype": "text/x-python",
   "name": "python",
   "nbconvert_exporter": "python",
   "pygments_lexer": "ipython3",
   "version": "3.6.3"
  }
 },
 "nbformat": 4,
 "nbformat_minor": 2
}
